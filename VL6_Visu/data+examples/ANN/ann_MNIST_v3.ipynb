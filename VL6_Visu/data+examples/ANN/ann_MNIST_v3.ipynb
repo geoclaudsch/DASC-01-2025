{
  "cells": [
    {
      "cell_type": "markdown",
      "id": "4dd37917-2bb6-482a-81e1-fa9b945f66b2",
      "metadata": {
        "id": "4dd37917-2bb6-482a-81e1-fa9b945f66b2"
      },
      "source": [
        "# MNIST mit veränderter Modell-Architektur - v.3"
      ]
    },
    {
      "cell_type": "code",
      "execution_count": 1,
      "id": "669caa4f-0846-4ce6-92bc-bc0135b3771e",
      "metadata": {
        "id": "669caa4f-0846-4ce6-92bc-bc0135b3771e"
      },
      "outputs": [],
      "source": [
        "import pandas as pd\n",
        "import numpy as np\n",
        "import matplotlib.pyplot as plt\n",
        "import tensorflow as tf\n",
        "from tensorflow import keras\n",
        "from keras.models import Sequential\n",
        "from keras.layers import Dense, Dropout, Flatten, Conv2D, MaxPool2D, Input\n",
        "from keras.optimizers import Adam ,RMSprop\n",
        "\n",
        "import seaborn as sns"
      ]
    },
    {
      "cell_type": "markdown",
      "id": "c6676da2-2062-455a-93e0-fc4f44238270",
      "metadata": {
        "id": "c6676da2-2062-455a-93e0-fc4f44238270"
      },
      "source": [
        "## Einladen des MNIST-Datensatzes, aufteilen und Beispiel anzeigen"
      ]
    },
    {
      "cell_type": "code",
      "execution_count": 2,
      "id": "bb12ae1c-a087-4453-a117-3056470cc23f",
      "metadata": {
        "id": "bb12ae1c-a087-4453-a117-3056470cc23f",
        "colab": {
          "base_uri": "https://localhost:8080/"
        },
        "outputId": "6d2847ee-2e12-45cb-85a3-9c6ef904f445"
      },
      "outputs": [
        {
          "output_type": "stream",
          "name": "stdout",
          "text": [
            "Downloading data from https://storage.googleapis.com/tensorflow/tf-keras-datasets/mnist.npz\n",
            "\u001b[1m11490434/11490434\u001b[0m \u001b[32m━━━━━━━━━━━━━━━━━━━━\u001b[0m\u001b[37m\u001b[0m \u001b[1m0s\u001b[0m 0us/step\n"
          ]
        }
      ],
      "source": [
        "# Datensatz angeben\n",
        "data = keras.datasets.mnist\n",
        "\n",
        "# Datensatz herunterladen, Aufteilen der Daten in Test- und Trainingsdaten\n",
        "(train_images, train_labels), (test_images, test_labels) = data.load_data()"
      ]
    },
    {
      "cell_type": "code",
      "execution_count": 3,
      "id": "d10f44b7-cc14-4575-af40-0b9d441b977c",
      "metadata": {
        "colab": {
          "base_uri": "https://localhost:8080/"
        },
        "id": "d10f44b7-cc14-4575-af40-0b9d441b977c",
        "outputId": "00a11f8d-d56c-4067-9fe6-83093ffe8609"
      },
      "outputs": [
        {
          "output_type": "stream",
          "name": "stdout",
          "text": [
            "Training-Datensatz:  (60000, 28, 28)\n",
            "Test-Datensatz:  (10000, 28, 28)\n",
            "Pixelwerte von 0 bis 255.\n"
          ]
        }
      ],
      "source": [
        "# Größe der Trainingsdaten (Länge, Höhe und Tiefe des Numpy-Arrays)\n",
        "print('Training-Datensatz: ', train_images.shape)\n",
        "# Größe der Testdaten (Länge, Höhe und Tiefe des Numpy-Arrays)\n",
        "print('Test-Datensatz: ', test_images.shape)\n",
        "# Informationsinhalte der Daten\n",
        "print(f\"Pixelwerte von {np.min(train_images)} bis {np.max(train_images)}.\")"
      ]
    },
    {
      "cell_type": "code",
      "execution_count": 4,
      "id": "fcfe66a6-42a5-4a5a-9032-6c6dae266a30",
      "metadata": {
        "colab": {
          "base_uri": "https://localhost:8080/",
          "height": 448
        },
        "id": "fcfe66a6-42a5-4a5a-9032-6c6dae266a30",
        "outputId": "f9abb7ca-8cd5-422a-c994-8e26a3b6f017"
      },
      "outputs": [
        {
          "output_type": "execute_result",
          "data": {
            "text/plain": [
              "<matplotlib.image.AxesImage at 0x7d29e6e45210>"
            ]
          },
          "metadata": {},
          "execution_count": 4
        },
        {
          "output_type": "display_data",
          "data": {
            "text/plain": [
              "<Figure size 640x480 with 1 Axes>"
            ],
            "image/png": "[encoded data removed]"
          },
          "metadata": {}
        }
      ],
      "source": [
        "single_image = train_images[20]\n",
        "plt.imshow(single_image)"
      ]
    },
    {
      "cell_type": "markdown",
      "id": "433af888-f285-45eb-aa06-f9bc5dcf0849",
      "metadata": {
        "id": "433af888-f285-45eb-aa06-f9bc5dcf0849"
      },
      "source": [
        "## Preprocessing - Umwandlung der Lablels in einen Vektor mit 10 Elementen"
      ]
    },
    {
      "cell_type": "code",
      "execution_count": 5,
      "id": "9f4087ef-35a8-404d-a435-0388253de3d2",
      "metadata": {
        "colab": {
          "base_uri": "https://localhost:8080/"
        },
        "id": "9f4087ef-35a8-404d-a435-0388253de3d2",
        "outputId": "a5f91d6a-817a-43ec-9218-c13fdd1c66f8"
      },
      "outputs": [
        {
          "output_type": "execute_result",
          "data": {
            "text/plain": [
              "array([0., 0., 0., 0., 1., 0., 0., 0., 0., 0.])"
            ]
          },
          "metadata": {},
          "execution_count": 5
        }
      ],
      "source": [
        "from tensorflow.keras.utils import to_categorical\n",
        "y_example = to_categorical(train_labels)\n",
        "y_example[20]"
      ]
    },
    {
      "cell_type": "code",
      "execution_count": 6,
      "id": "870acb73-cd4b-427a-bb6d-a87718ef5937",
      "metadata": {
        "id": "870acb73-cd4b-427a-bb6d-a87718ef5937"
      },
      "outputs": [],
      "source": [
        "labels_cat_test = to_categorical(test_labels,10)\n",
        "labels_cat_train = to_categorical(train_labels,10)"
      ]
    },
    {
      "cell_type": "markdown",
      "id": "adc42f97-00f7-4d3d-b299-b244ee1c8049",
      "metadata": {
        "id": "adc42f97-00f7-4d3d-b299-b244ee1c8049"
      },
      "source": [
        "## Skalieren der Bilder auf Werteberich zwischen 0 und 1"
      ]
    },
    {
      "cell_type": "code",
      "execution_count": 7,
      "id": "e7231988-5702-43f9-852c-1bc3f95acdcd",
      "metadata": {
        "colab": {
          "base_uri": "https://localhost:8080/",
          "height": 448
        },
        "id": "e7231988-5702-43f9-852c-1bc3f95acdcd",
        "outputId": "571115ad-dd40-4f81-d16f-72b4fe07c369"
      },
      "outputs": [
        {
          "output_type": "execute_result",
          "data": {
            "text/plain": [
              "<matplotlib.image.AxesImage at 0x7d29e6def9d0>"
            ]
          },
          "metadata": {},
          "execution_count": 7
        },
        {
          "output_type": "display_data",
          "data": {
            "text/plain": [
              "<Figure size 640x480 with 1 Axes>"
            ],
            "image/png": "[encoded data removed]"
          },
          "metadata": {}
        }
      ],
      "source": [
        "train_images = train_images/255\n",
        "test_images = test_images/255\n",
        "plt.imshow(train_images[20])"
      ]
    },
    {
      "cell_type": "markdown",
      "id": "b10a195b-bd5f-4828-9682-566850a4b790",
      "metadata": {
        "id": "b10a195b-bd5f-4828-9682-566850a4b790"
      },
      "source": [
        "## Reshaping der Datensätze (Train, Test), Erweiterung um eine Dimension"
      ]
    },
    {
      "cell_type": "code",
      "execution_count": 8,
      "id": "2697d8d0-5721-477a-bd24-32bae935cb3c",
      "metadata": {
        "colab": {
          "base_uri": "https://localhost:8080/"
        },
        "id": "2697d8d0-5721-477a-bd24-32bae935cb3c",
        "outputId": "fd4a4ba1-df95-493b-c047-e647e31ccea4"
      },
      "outputs": [
        {
          "output_type": "execute_result",
          "data": {
            "text/plain": [
              "(10000, 28, 28, 1)"
            ]
          },
          "metadata": {},
          "execution_count": 8
        }
      ],
      "source": [
        "train_images = train_images.reshape(60000, 28, 28, 1)\n",
        "test_images = test_images.reshape(10000,28,28,1)\n",
        "test_images.shape"
      ]
    },
    {
      "cell_type": "markdown",
      "id": "f9c2c18e-f1b7-42b2-95cf-187f6cbede80",
      "metadata": {
        "id": "f9c2c18e-f1b7-42b2-95cf-187f6cbede80"
      },
      "source": [
        "## Modellaufbau"
      ]
    },
    {
      "cell_type": "code",
      "execution_count": 9,
      "id": "326586f7-e817-455a-bbbe-c16083f18135",
      "metadata": {
        "id": "326586f7-e817-455a-bbbe-c16083f18135"
      },
      "outputs": [],
      "source": [
        "model = Sequential()\n",
        "\n",
        "# INPUT LAYER\n",
        "model.add(Input(shape=(28, 28, 1)))\n",
        "\n",
        "# CONVOLUTIONAL LAYER\n",
        "model.add(Conv2D(filters=32, kernel_size=(4, 4), activation='relu'))\n",
        "\n",
        "# POOLING LAYER\n",
        "model.add(MaxPool2D(pool_size=(2, 2)))\n",
        "\n",
        "# FLATTEN IMAGES FROM 28 by 28 to 764\n",
        "model.add(Flatten())\n",
        "\n",
        "# 128 NEURONS IN DENSE HIDDEN LAYER\n",
        "model.add(Dense(128, activation='relu'))\n",
        "\n",
        "# LAST LAYER IS THE CLASSIFIER, 10 POSSIBLE CLASSES\n",
        "model.add(Dense(10, activation='softmax'))\n",
        "\n",
        "# KERAS METRICS FOR REPORT GENERATION\n",
        "model.compile(loss='categorical_crossentropy',\n",
        "              optimizer='adam',\n",
        "              metrics=['accuracy'])"
      ]
    },
    {
      "cell_type": "markdown",
      "source": [
        "## Output Layer:\n",
        "* Fehlerfunktion - categorial crossentropy: geeignet für Klassifizierung, prüft \"Reinheit\" einer Klasse, misst Abweichung zwischer vorhergesagter Wahrscheinlichkeit einer Klasse und der tatsächlichen Klasse\n",
        "* optimizer - Adam: adaptive Lernratensteuerung (Adaptive Moment Estimation), verbessert Gradient Descent, Vorteil: schnell und generalisiert gut\n",
        "* metrics - accuracy"
      ],
      "metadata": {
        "id": "KFPfHLFs5JGI"
      },
      "id": "KFPfHLFs5JGI"
    },
    {
      "cell_type": "code",
      "execution_count": 10,
      "id": "8d7e10d8-ac0f-4ab3-bdf4-07ce78bf0984",
      "metadata": {
        "colab": {
          "base_uri": "https://localhost:8080/",
          "height": 293
        },
        "id": "8d7e10d8-ac0f-4ab3-bdf4-07ce78bf0984",
        "outputId": "a48f7818-260c-480b-d036-a61d226e1ced"
      },
      "outputs": [
        {
          "output_type": "display_data",
          "data": {
            "text/plain": [
              "\u001b[1mModel: \"sequential\"\u001b[0m\n"
            ],
            "text/html": [
              "<pre style=\"white-space:pre;overflow-x:auto;line-height:normal;font-family:Menlo,'DejaVu Sans Mono',consolas,'Courier New',monospace\"><span style=\"font-weight: bold\">Model: \"sequential\"</span>\n",
              "</pre>\n"
            ]
          },
          "metadata": {}
        },
        {
          "output_type": "display_data",
          "data": {
            "text/plain": [
              "┏━━━━━━━━━━━━━━━━━━━━━━━━━━━━━━━━━━━━━━┳━━━━━━━━━━━━━━━━━━━━━━━━━━━━━┳━━━━━━━━━━━━━━━━━┓\n",
              "┃\u001b[1m \u001b[0m\u001b[1mLayer (type)                        \u001b[0m\u001b[1m \u001b[0m┃\u001b[1m \u001b[0m\u001b[1mOutput Shape               \u001b[0m\u001b[1m \u001b[0m┃\u001b[1m \u001b[0m\u001b[1m        Param #\u001b[0m\u001b[1m \u001b[0m┃\n",
              "┡━━━━━━━━━━━━━━━━━━━━━━━━━━━━━━━━━━━━━━╇━━━━━━━━━━━━━━━━━━━━━━━━━━━━━╇━━━━━━━━━━━━━━━━━┩\n",
              "│ conv2d (\u001b[38;5;33mConv2D\u001b[0m)                      │ (\u001b[38;5;45mNone\u001b[0m, \u001b[38;5;34m25\u001b[0m, \u001b[38;5;34m25\u001b[0m, \u001b[38;5;34m32\u001b[0m)          │             \u001b[38;5;34m544\u001b[0m │\n",
              "├──────────────────────────────────────┼─────────────────────────────┼─────────────────┤\n",
              "│ max_pooling2d (\u001b[38;5;33mMaxPooling2D\u001b[0m)         │ (\u001b[38;5;45mNone\u001b[0m, \u001b[38;5;34m12\u001b[0m, \u001b[38;5;34m12\u001b[0m, \u001b[38;5;34m32\u001b[0m)          │               \u001b[38;5;34m0\u001b[0m │\n",
              "├──────────────────────────────────────┼─────────────────────────────┼─────────────────┤\n",
              "│ flatten (\u001b[38;5;33mFlatten\u001b[0m)                    │ (\u001b[38;5;45mNone\u001b[0m, \u001b[38;5;34m4608\u001b[0m)                │               \u001b[38;5;34m0\u001b[0m │\n",
              "├──────────────────────────────────────┼─────────────────────────────┼─────────────────┤\n",
              "│ dense (\u001b[38;5;33mDense\u001b[0m)                        │ (\u001b[38;5;45mNone\u001b[0m, \u001b[38;5;34m128\u001b[0m)                 │         \u001b[38;5;34m589,952\u001b[0m │\n",
              "├──────────────────────────────────────┼─────────────────────────────┼─────────────────┤\n",
              "│ dense_1 (\u001b[38;5;33mDense\u001b[0m)                      │ (\u001b[38;5;45mNone\u001b[0m, \u001b[38;5;34m10\u001b[0m)                  │           \u001b[38;5;34m1,290\u001b[0m │\n",
              "└──────────────────────────────────────┴─────────────────────────────┴─────────────────┘\n"
            ],
            "text/html": [
              "<pre style=\"white-space:pre;overflow-x:auto;line-height:normal;font-family:Menlo,'DejaVu Sans Mono',consolas,'Courier New',monospace\">┏━━━━━━━━━━━━━━━━━━━━━━━━━━━━━━━━━━━━━━┳━━━━━━━━━━━━━━━━━━━━━━━━━━━━━┳━━━━━━━━━━━━━━━━━┓\n",
              "┃<span style=\"font-weight: bold\"> Layer (type)                         </span>┃<span style=\"font-weight: bold\"> Output Shape                </span>┃<span style=\"font-weight: bold\">         Param # </span>┃\n",
              "┡━━━━━━━━━━━━━━━━━━━━━━━━━━━━━━━━━━━━━━╇━━━━━━━━━━━━━━━━━━━━━━━━━━━━━╇━━━━━━━━━━━━━━━━━┩\n",
              "│ conv2d (<span style=\"color: #0087ff; text-decoration-color: #0087ff\">Conv2D</span>)                      │ (<span style=\"color: #00d7ff; text-decoration-color: #00d7ff\">None</span>, <span style=\"color: #00af00; text-decoration-color: #00af00\">25</span>, <span style=\"color: #00af00; text-decoration-color: #00af00\">25</span>, <span style=\"color: #00af00; text-decoration-color: #00af00\">32</span>)          │             <span style=\"color: #00af00; text-decoration-color: #00af00\">544</span> │\n",
              "├──────────────────────────────────────┼─────────────────────────────┼─────────────────┤\n",
              "│ max_pooling2d (<span style=\"color: #0087ff; text-decoration-color: #0087ff\">MaxPooling2D</span>)         │ (<span style=\"color: #00d7ff; text-decoration-color: #00d7ff\">None</span>, <span style=\"color: #00af00; text-decoration-color: #00af00\">12</span>, <span style=\"color: #00af00; text-decoration-color: #00af00\">12</span>, <span style=\"color: #00af00; text-decoration-color: #00af00\">32</span>)          │               <span style=\"color: #00af00; text-decoration-color: #00af00\">0</span> │\n",
              "├──────────────────────────────────────┼─────────────────────────────┼─────────────────┤\n",
              "│ flatten (<span style=\"color: #0087ff; text-decoration-color: #0087ff\">Flatten</span>)                    │ (<span style=\"color: #00d7ff; text-decoration-color: #00d7ff\">None</span>, <span style=\"color: #00af00; text-decoration-color: #00af00\">4608</span>)                │               <span style=\"color: #00af00; text-decoration-color: #00af00\">0</span> │\n",
              "├──────────────────────────────────────┼─────────────────────────────┼─────────────────┤\n",
              "│ dense (<span style=\"color: #0087ff; text-decoration-color: #0087ff\">Dense</span>)                        │ (<span style=\"color: #00d7ff; text-decoration-color: #00d7ff\">None</span>, <span style=\"color: #00af00; text-decoration-color: #00af00\">128</span>)                 │         <span style=\"color: #00af00; text-decoration-color: #00af00\">589,952</span> │\n",
              "├──────────────────────────────────────┼─────────────────────────────┼─────────────────┤\n",
              "│ dense_1 (<span style=\"color: #0087ff; text-decoration-color: #0087ff\">Dense</span>)                      │ (<span style=\"color: #00d7ff; text-decoration-color: #00d7ff\">None</span>, <span style=\"color: #00af00; text-decoration-color: #00af00\">10</span>)                  │           <span style=\"color: #00af00; text-decoration-color: #00af00\">1,290</span> │\n",
              "└──────────────────────────────────────┴─────────────────────────────┴─────────────────┘\n",
              "</pre>\n"
            ]
          },
          "metadata": {}
        },
        {
          "output_type": "display_data",
          "data": {
            "text/plain": [
              "\u001b[1m Total params: \u001b[0m\u001b[38;5;34m591,786\u001b[0m (2.26 MB)\n"
            ],
            "text/html": [
              "<pre style=\"white-space:pre;overflow-x:auto;line-height:normal;font-family:Menlo,'DejaVu Sans Mono',consolas,'Courier New',monospace\"><span style=\"font-weight: bold\"> Total params: </span><span style=\"color: #00af00; text-decoration-color: #00af00\">591,786</span> (2.26 MB)\n",
              "</pre>\n"
            ]
          },
          "metadata": {}
        },
        {
          "output_type": "display_data",
          "data": {
            "text/plain": [
              "\u001b[1m Trainable params: \u001b[0m\u001b[38;5;34m591,786\u001b[0m (2.26 MB)\n"
            ],
            "text/html": [
              "<pre style=\"white-space:pre;overflow-x:auto;line-height:normal;font-family:Menlo,'DejaVu Sans Mono',consolas,'Courier New',monospace\"><span style=\"font-weight: bold\"> Trainable params: </span><span style=\"color: #00af00; text-decoration-color: #00af00\">591,786</span> (2.26 MB)\n",
              "</pre>\n"
            ]
          },
          "metadata": {}
        },
        {
          "output_type": "display_data",
          "data": {
            "text/plain": [
              "\u001b[1m Non-trainable params: \u001b[0m\u001b[38;5;34m0\u001b[0m (0.00 B)\n"
            ],
            "text/html": [
              "<pre style=\"white-space:pre;overflow-x:auto;line-height:normal;font-family:Menlo,'DejaVu Sans Mono',consolas,'Courier New',monospace\"><span style=\"font-weight: bold\"> Non-trainable params: </span><span style=\"color: #00af00; text-decoration-color: #00af00\">0</span> (0.00 B)\n",
              "</pre>\n"
            ]
          },
          "metadata": {}
        }
      ],
      "source": [
        "model.summary()"
      ]
    },
    {
      "cell_type": "code",
      "execution_count": 11,
      "id": "67c6ab17-5511-453a-b2de-754f9b9b1e7e",
      "metadata": {
        "id": "67c6ab17-5511-453a-b2de-754f9b9b1e7e"
      },
      "outputs": [],
      "source": [
        "from tensorflow.keras.callbacks import EarlyStopping\n",
        "early_stop = EarlyStopping(monitor='val_loss',patience=2)"
      ]
    },
    {
      "cell_type": "markdown",
      "source": [
        " Das Training wird automatisch gestoppt, wenn der Validierungsverlust für zwei aufeinanderfolgende Epochen nicht verbessert wird. Dies hilft, Überanpassung zu vermeiden und das Training zu beenden, wenn das Modell nicht mehr von den Daten lernt.\n",
        "\n",
        "  * monitor='val_loss': Der Monitor gibt an, welche Metrik überwacht werden soll, um zu entscheiden, wann das Training beendet werden soll. In diesem Fall ist es der Validierungsverlust (val_loss). Das Training wird gestoppt, wenn der Validierungsverlust nicht mehr verbessert wird.\n",
        "\n",
        "  * patience=2: Die Geduld gibt an, wie viele Epochen ohne Verbesserung der überwachten Metrik toleriert werden, bevor das Training gestoppt wird. In diesem Beispiel wird das Training beendet, wenn der Validierungsverlust für zwei aufeinanderfolgende Epochen nicht verbessert wird."
      ],
      "metadata": {
        "id": "vaQMgrQ0ouhL"
      },
      "id": "vaQMgrQ0ouhL"
    },
    {
      "cell_type": "markdown",
      "id": "84408bd5-90cc-4239-8838-f82c7da6ad6e",
      "metadata": {
        "id": "84408bd5-90cc-4239-8838-f82c7da6ad6e"
      },
      "source": [
        "## Modellierung"
      ]
    },
    {
      "cell_type": "code",
      "execution_count": 12,
      "id": "3df80f2e-9e82-4f9c-b5ce-247fa3246166",
      "metadata": {
        "colab": {
          "base_uri": "https://localhost:8080/"
        },
        "id": "3df80f2e-9e82-4f9c-b5ce-247fa3246166",
        "outputId": "65cca2c4-0b0a-45de-fbdd-1f6595194686"
      },
      "outputs": [
        {
          "output_type": "stream",
          "name": "stdout",
          "text": [
            "Epoch 1/10\n",
            "\u001b[1m1875/1875\u001b[0m \u001b[32m━━━━━━━━━━━━━━━━━━━━\u001b[0m\u001b[37m\u001b[0m \u001b[1m41s\u001b[0m 21ms/step - accuracy: 0.9157 - loss: 0.2834 - val_accuracy: 0.9802 - val_loss: 0.0607\n",
            "Epoch 2/10\n",
            "\u001b[1m1875/1875\u001b[0m \u001b[32m━━━━━━━━━━━━━━━━━━━━\u001b[0m\u001b[37m\u001b[0m \u001b[1m39s\u001b[0m 21ms/step - accuracy: 0.9849 - loss: 0.0483 - val_accuracy: 0.9855 - val_loss: 0.0429\n",
            "Epoch 3/10\n",
            "\u001b[1m1875/1875\u001b[0m \u001b[32m━━━━━━━━━━━━━━━━━━━━\u001b[0m\u001b[37m\u001b[0m \u001b[1m41s\u001b[0m 21ms/step - accuracy: 0.9904 - loss: 0.0295 - val_accuracy: 0.9858 - val_loss: 0.0385\n",
            "Epoch 4/10\n",
            "\u001b[1m1875/1875\u001b[0m \u001b[32m━━━━━━━━━━━━━━━━━━━━\u001b[0m\u001b[37m\u001b[0m \u001b[1m40s\u001b[0m 21ms/step - accuracy: 0.9946 - loss: 0.0181 - val_accuracy: 0.9858 - val_loss: 0.0431\n",
            "Epoch 5/10\n",
            "\u001b[1m1875/1875\u001b[0m \u001b[32m━━━━━━━━━━━━━━━━━━━━\u001b[0m\u001b[37m\u001b[0m \u001b[1m41s\u001b[0m 21ms/step - accuracy: 0.9955 - loss: 0.0135 - val_accuracy: 0.9882 - val_loss: 0.0393\n"
          ]
        },
        {
          "output_type": "execute_result",
          "data": {
            "text/plain": [
              "<keras.src.callbacks.history.History at 0x7d29e6cb1550>"
            ]
          },
          "metadata": {},
          "execution_count": 12
        }
      ],
      "source": [
        "model.fit(train_images,labels_cat_train,epochs=10,validation_data=(test_images,labels_cat_test),callbacks=[early_stop])"
      ]
    },
    {
      "cell_type": "markdown",
      "id": "7d9b20ea-76c5-40d2-831a-49c6afc74df1",
      "metadata": {
        "id": "7d9b20ea-76c5-40d2-831a-49c6afc74df1"
      },
      "source": [
        "## Modellevaluierung"
      ]
    },
    {
      "cell_type": "code",
      "execution_count": 13,
      "id": "5330ebbb-018e-4cd0-a47e-1a4fe06c6692",
      "metadata": {
        "colab": {
          "base_uri": "https://localhost:8080/"
        },
        "id": "5330ebbb-018e-4cd0-a47e-1a4fe06c6692",
        "outputId": "3552c864-b04e-4861-f7c7-2842440ec867"
      },
      "outputs": [
        {
          "output_type": "execute_result",
          "data": {
            "text/plain": [
              "['loss', 'compile_metrics']"
            ]
          },
          "metadata": {},
          "execution_count": 13
        }
      ],
      "source": [
        "model.metrics_names"
      ]
    },
    {
      "cell_type": "code",
      "execution_count": 14,
      "id": "fbdaa0b8-1a82-4a11-8833-70b0fd18b71e",
      "metadata": {
        "colab": {
          "base_uri": "https://localhost:8080/",
          "height": 206
        },
        "id": "fbdaa0b8-1a82-4a11-8833-70b0fd18b71e",
        "outputId": "97f69cbb-c2fd-452f-d6dc-4073e19aceee"
      },
      "outputs": [
        {
          "output_type": "execute_result",
          "data": {
            "text/plain": [
              "   accuracy      loss  val_accuracy  val_loss\n",
              "0  0.959450  0.136087        0.9802  0.060692\n",
              "1  0.985633  0.046595        0.9855  0.042916\n",
              "2  0.989867  0.030438        0.9858  0.038488\n",
              "3  0.993650  0.020433        0.9858  0.043086\n",
              "4  0.995000  0.015091        0.9882  0.039260"
            ],
            "text/html": [
              "\n",
              "  <div id=\"df-4193bc42-c85e-4efe-9c63-db4c9276fa43\" class=\"colab-df-container\">\n",
              "    <div>\n",
              "<style scoped>\n",
              "    .dataframe tbody tr th:only-of-type {\n",
              "        vertical-align: middle;\n",
              "    }\n",
              "\n",
              "    .dataframe tbody tr th {\n",
              "        vertical-align: top;\n",
              "    }\n",
              "\n",
              "    .dataframe thead th {\n",
              "        text-align: right;\n",
              "    }\n",
              "</style>\n",
              "<table border=\"1\" class=\"dataframe\">\n",
              "  <thead>\n",
              "    <tr style=\"text-align: right;\">\n",
              "      <th></th>\n",
              "      <th>accuracy</th>\n",
              "      <th>loss</th>\n",
              "      <th>val_accuracy</th>\n",
              "      <th>val_loss</th>\n",
              "    </tr>\n",
              "  </thead>\n",
              "  <tbody>\n",
              "    <tr>\n",
              "      <th>0</th>\n",
              "      <td>0.959450</td>\n",
              "      <td>0.136087</td>\n",
              "      <td>0.9802</td>\n",
              "      <td>0.060692</td>\n",
              "    </tr>\n",
              "    <tr>\n",
              "      <th>1</th>\n",
              "      <td>0.985633</td>\n",
              "      <td>0.046595</td>\n",
              "      <td>0.9855</td>\n",
              "      <td>0.042916</td>\n",
              "    </tr>\n",
              "    <tr>\n",
              "      <th>2</th>\n",
              "      <td>0.989867</td>\n",
              "      <td>0.030438</td>\n",
              "      <td>0.9858</td>\n",
              "      <td>0.038488</td>\n",
              "    </tr>\n",
              "    <tr>\n",
              "      <th>3</th>\n",
              "      <td>0.993650</td>\n",
              "      <td>0.020433</td>\n",
              "      <td>0.9858</td>\n",
              "      <td>0.043086</td>\n",
              "    </tr>\n",
              "    <tr>\n",
              "      <th>4</th>\n",
              "      <td>0.995000</td>\n",
              "      <td>0.015091</td>\n",
              "      <td>0.9882</td>\n",
              "      <td>0.039260</td>\n",
              "    </tr>\n",
              "  </tbody>\n",
              "</table>\n",
              "</div>\n",
              "    <div class=\"colab-df-buttons\">\n",
              "\n",
              "  <div class=\"colab-df-container\">\n",
              "    <button class=\"colab-df-convert\" onclick=\"convertToInteractive('df-4193bc42-c85e-4efe-9c63-db4c9276fa43')\"\n",
              "            title=\"Convert this dataframe to an interactive table.\"\n",
              "            style=\"display:none;\">\n",
              "\n",
              "  <svg xmlns=\"http://www.w3.org/2000/svg\" height=\"24px\" viewBox=\"0 -960 960 960\">\n",
              "    <path d=\"M120-120v-720h720v720H120Zm60-500h600v-160H180v160Zm220 220h160v-160H400v160Zm0 220h160v-160H400v160ZM180-400h160v-160H180v160Zm440 0h160v-160H620v160ZM180-180h160v-160H180v160Zm440 0h160v-160H620v160Z\"/>\n",
              "  </svg>\n",
              "    </button>\n",
              "\n",
              "  <style>\n",
              "    .colab-df-container {\n",
              "      display:flex;\n",
              "      gap: 12px;\n",
              "    }\n",
              "\n",
              "    .colab-df-convert {\n",
              "      background-color: #E8F0FE;\n",
              "      border: none;\n",
              "      border-radius: 50%;\n",
              "      cursor: pointer;\n",
              "      display: none;\n",
              "      fill: #1967D2;\n",
              "      height: 32px;\n",
              "      padding: 0 0 0 0;\n",
              "      width: 32px;\n",
              "    }\n",
              "\n",
              "    .colab-df-convert:hover {\n",
              "      background-color: #E2EBFA;\n",
              "      box-shadow: 0px 1px 2px rgba(60, 64, 67, 0.3), 0px 1px 3px 1px rgba(60, 64, 67, 0.15);\n",
              "      fill: #174EA6;\n",
              "    }\n",
              "\n",
              "    .colab-df-buttons div {\n",
              "      margin-bottom: 4px;\n",
              "    }\n",
              "\n",
              "    [theme=dark] .colab-df-convert {\n",
              "      background-color: #3B4455;\n",
              "      fill: #D2E3FC;\n",
              "    }\n",
              "\n",
              "    [theme=dark] .colab-df-convert:hover {\n",
              "      background-color: #434B5C;\n",
              "      box-shadow: 0px 1px 3px 1px rgba(0, 0, 0, 0.15);\n",
              "      filter: drop-shadow(0px 1px 2px rgba(0, 0, 0, 0.3));\n",
              "      fill: #FFFFFF;\n",
              "    }\n",
              "  </style>\n",
              "\n",
              "    <script>\n",
              "      const buttonEl =\n",
              "        document.querySelector('#df-4193bc42-c85e-4efe-9c63-db4c9276fa43 button.colab-df-convert');\n",
              "      buttonEl.style.display =\n",
              "        google.colab.kernel.accessAllowed ? 'block' : 'none';\n",
              "\n",
              "      async function convertToInteractive(key) {\n",
              "        const element = document.querySelector('#df-4193bc42-c85e-4efe-9c63-db4c9276fa43');\n",
              "        const dataTable =\n",
              "          await google.colab.kernel.invokeFunction('convertToInteractive',\n",
              "                                                    [key], {});\n",
              "        if (!dataTable) return;\n",
              "\n",
              "        const docLinkHtml = 'Like what you see? Visit the ' +\n",
              "          '<a target=\"_blank\" href=https://colab.research.google.com/notebooks/data_table.ipynb>data table notebook</a>'\n",
              "          + ' to learn more about interactive tables.';\n",
              "        element.innerHTML = '';\n",
              "        dataTable['output_type'] = 'display_data';\n",
              "        await google.colab.output.renderOutput(dataTable, element);\n",
              "        const docLink = document.createElement('div');\n",
              "        docLink.innerHTML = docLinkHtml;\n",
              "        element.appendChild(docLink);\n",
              "      }\n",
              "    </script>\n",
              "  </div>\n",
              "\n",
              "\n",
              "<div id=\"df-da8eb1ea-0370-46c5-b546-24b85c4442c8\">\n",
              "  <button class=\"colab-df-quickchart\" onclick=\"quickchart('df-da8eb1ea-0370-46c5-b546-24b85c4442c8')\"\n",
              "            title=\"Suggest charts\"\n",
              "            style=\"display:none;\">\n",
              "\n",
              "<svg xmlns=\"http://www.w3.org/2000/svg\" height=\"24px\"viewBox=\"0 0 24 24\"\n",
              "     width=\"24px\">\n",
              "    <g>\n",
              "        <path d=\"M19 3H5c-1.1 0-2 .9-2 2v14c0 1.1.9 2 2 2h14c1.1 0 2-.9 2-2V5c0-1.1-.9-2-2-2zM9 17H7v-7h2v7zm4 0h-2V7h2v10zm4 0h-2v-4h2v4z\"/>\n",
              "    </g>\n",
              "</svg>\n",
              "  </button>\n",
              "\n",
              "<style>\n",
              "  .colab-df-quickchart {\n",
              "      --bg-color: #E8F0FE;\n",
              "      --fill-color: #1967D2;\n",
              "      --hover-bg-color: #E2EBFA;\n",
              "      --hover-fill-color: #174EA6;\n",
              "      --disabled-fill-color: #AAA;\n",
              "      --disabled-bg-color: #DDD;\n",
              "  }\n",
              "\n",
              "  [theme=dark] .colab-df-quickchart {\n",
              "      --bg-color: #3B4455;\n",
              "      --fill-color: #D2E3FC;\n",
              "      --hover-bg-color: #434B5C;\n",
              "      --hover-fill-color: #FFFFFF;\n",
              "      --disabled-bg-color: #3B4455;\n",
              "      --disabled-fill-color: #666;\n",
              "  }\n",
              "\n",
              "  .colab-df-quickchart {\n",
              "    background-color: var(--bg-color);\n",
              "    border: none;\n",
              "    border-radius: 50%;\n",
              "    cursor: pointer;\n",
              "    display: none;\n",
              "    fill: var(--fill-color);\n",
              "    height: 32px;\n",
              "    padding: 0;\n",
              "    width: 32px;\n",
              "  }\n",
              "\n",
              "  .colab-df-quickchart:hover {\n",
              "    background-color: var(--hover-bg-color);\n",
              "    box-shadow: 0 1px 2px rgba(60, 64, 67, 0.3), 0 1px 3px 1px rgba(60, 64, 67, 0.15);\n",
              "    fill: var(--button-hover-fill-color);\n",
              "  }\n",
              "\n",
              "  .colab-df-quickchart-complete:disabled,\n",
              "  .colab-df-quickchart-complete:disabled:hover {\n",
              "    background-color: var(--disabled-bg-color);\n",
              "    fill: var(--disabled-fill-color);\n",
              "    box-shadow: none;\n",
              "  }\n",
              "\n",
              "  .colab-df-spinner {\n",
              "    border: 2px solid var(--fill-color);\n",
              "    border-color: transparent;\n",
              "    border-bottom-color: var(--fill-color);\n",
              "    animation:\n",
              "      spin 1s steps(1) infinite;\n",
              "  }\n",
              "\n",
              "  @keyframes spin {\n",
              "    0% {\n",
              "      border-color: transparent;\n",
              "      border-bottom-color: var(--fill-color);\n",
              "      border-left-color: var(--fill-color);\n",
              "    }\n",
              "    20% {\n",
              "      border-color: transparent;\n",
              "      border-left-color: var(--fill-color);\n",
              "      border-top-color: var(--fill-color);\n",
              "    }\n",
              "    30% {\n",
              "      border-color: transparent;\n",
              "      border-left-color: var(--fill-color);\n",
              "      border-top-color: var(--fill-color);\n",
              "      border-right-color: var(--fill-color);\n",
              "    }\n",
              "    40% {\n",
              "      border-color: transparent;\n",
              "      border-right-color: var(--fill-color);\n",
              "      border-top-color: var(--fill-color);\n",
              "    }\n",
              "    60% {\n",
              "      border-color: transparent;\n",
              "      border-right-color: var(--fill-color);\n",
              "    }\n",
              "    80% {\n",
              "      border-color: transparent;\n",
              "      border-right-color: var(--fill-color);\n",
              "      border-bottom-color: var(--fill-color);\n",
              "    }\n",
              "    90% {\n",
              "      border-color: transparent;\n",
              "      border-bottom-color: var(--fill-color);\n",
              "    }\n",
              "  }\n",
              "</style>\n",
              "\n",
              "  <script>\n",
              "    async function quickchart(key) {\n",
              "      const quickchartButtonEl =\n",
              "        document.querySelector('#' + key + ' button');\n",
              "      quickchartButtonEl.disabled = true;  // To prevent multiple clicks.\n",
              "      quickchartButtonEl.classList.add('colab-df-spinner');\n",
              "      try {\n",
              "        const charts = await google.colab.kernel.invokeFunction(\n",
              "            'suggestCharts', [key], {});\n",
              "      } catch (error) {\n",
              "        console.error('Error during call to suggestCharts:', error);\n",
              "      }\n",
              "      quickchartButtonEl.classList.remove('colab-df-spinner');\n",
              "      quickchartButtonEl.classList.add('colab-df-quickchart-complete');\n",
              "    }\n",
              "    (() => {\n",
              "      let quickchartButtonEl =\n",
              "        document.querySelector('#df-da8eb1ea-0370-46c5-b546-24b85c4442c8 button');\n",
              "      quickchartButtonEl.style.display =\n",
              "        google.colab.kernel.accessAllowed ? 'block' : 'none';\n",
              "    })();\n",
              "  </script>\n",
              "</div>\n",
              "\n",
              "    </div>\n",
              "  </div>\n"
            ],
            "application/vnd.google.colaboratory.intrinsic+json": {
              "type": "dataframe",
              "variable_name": "losses",
              "summary": "{\n  \"name\": \"losses\",\n  \"rows\": 5,\n  \"fields\": [\n    {\n      \"column\": \"accuracy\",\n      \"properties\": {\n        \"dtype\": \"number\",\n        \"std\": 0.014588683175555776,\n        \"min\": 0.9594500064849854,\n        \"max\": 0.9950000047683716,\n        \"num_unique_values\": 5,\n        \"samples\": [\n          0.9856333136558533,\n          0.9950000047683716,\n          0.9898666739463806\n        ],\n        \"semantic_type\": \"\",\n        \"description\": \"\"\n      }\n    },\n    {\n      \"column\": \"loss\",\n      \"properties\": {\n        \"dtype\": \"number\",\n        \"std\": 0.049743831884205024,\n        \"min\": 0.01509079895913601,\n        \"max\": 0.13608744740486145,\n        \"num_unique_values\": 5,\n        \"samples\": [\n          0.04659513011574745,\n          0.01509079895913601,\n          0.030437681823968887\n        ],\n        \"semantic_type\": \"\",\n        \"description\": \"\"\n      }\n    },\n    {\n      \"column\": \"val_accuracy\",\n      \"properties\": {\n        \"dtype\": \"number\",\n        \"std\": 0.0029478885401183898,\n        \"min\": 0.9801999926567078,\n        \"max\": 0.9882000088691711,\n        \"num_unique_values\": 4,\n        \"samples\": [\n          0.9854999780654907,\n          0.9882000088691711,\n          0.9801999926567078\n        ],\n        \"semantic_type\": \"\",\n        \"description\": \"\"\n      }\n    },\n    {\n      \"column\": \"val_loss\",\n      \"properties\": {\n        \"dtype\": \"number\",\n        \"std\": 0.009076618254242788,\n        \"min\": 0.03848826140165329,\n        \"max\": 0.060692448168992996,\n        \"num_unique_values\": 5,\n        \"samples\": [\n          0.042916301637887955,\n          0.039260491728782654,\n          0.03848826140165329\n        ],\n        \"semantic_type\": \"\",\n        \"description\": \"\"\n      }\n    }\n  ]\n}"
            }
          },
          "metadata": {},
          "execution_count": 14
        }
      ],
      "source": [
        "losses = pd.DataFrame(model.history.history)\n",
        "losses.head(6)"
      ]
    },
    {
      "cell_type": "code",
      "execution_count": 15,
      "id": "eb0337c3-1e2e-452d-a2ac-9195042b0e67",
      "metadata": {
        "colab": {
          "base_uri": "https://localhost:8080/",
          "height": 472
        },
        "id": "eb0337c3-1e2e-452d-a2ac-9195042b0e67",
        "outputId": "267bfd6f-a751-4c41-9c73-af9e24a98527"
      },
      "outputs": [
        {
          "output_type": "display_data",
          "data": {
            "text/plain": [
              "<Figure size 640x480 with 1 Axes>"
            ],
            "image/png": "[encoded data removed]"
          },
          "metadata": {}
        }
      ],
      "source": [
        "plt.plot(losses['accuracy'], color='b',  label='accuracy')\n",
        "plt.plot(losses['val_accuracy'], color='r', label='val_accuracy')\n",
        "plt.title(\"Accuracy während der Trainings-Epochen\")\n",
        "plt.xlabel(\"Epoche\")\n",
        "plt.ylabel(\"Accuracy\")\n",
        "plt.legend()\n",
        "plt.show()"
      ]
    },
    {
      "cell_type": "code",
      "execution_count": 16,
      "id": "3cc17f25-e1ab-41f0-862f-89235a187eec",
      "metadata": {
        "colab": {
          "base_uri": "https://localhost:8080/",
          "height": 736
        },
        "id": "3cc17f25-e1ab-41f0-862f-89235a187eec",
        "outputId": "d17941fb-38ca-41ea-e79c-9494a54cb21e"
      },
      "outputs": [
        {
          "output_type": "stream",
          "name": "stdout",
          "text": [
            "\u001b[1m313/313\u001b[0m \u001b[32m━━━━━━━━━━━━━━━━━━━━\u001b[0m\u001b[37m\u001b[0m \u001b[1m2s\u001b[0m 6ms/step\n"
          ]
        },
        {
          "output_type": "display_data",
          "data": {
            "text/plain": [
              "<Figure size 800x800 with 2 Axes>"
            ],
            "image/png": "[encoded data removed]"
          },
          "metadata": {}
        }
      ],
      "source": [
        "from sklearn.metrics import confusion_matrix\n",
        "\n",
        "y_pred=model.predict(test_images)\n",
        "y_pred_classes = np.argmax(y_pred, axis = 1)\n",
        "y_pred_classes\n",
        "cm=confusion_matrix(test_labels,y_pred_classes)\n",
        "f,ax = plt.subplots(figsize=(8, 8))\n",
        "sns.heatmap(cm, annot=True, linewidths=0.01,cmap=\"Greens\",linecolor=\"gray\", fmt= '.1f',ax=ax)\n",
        "plt.xlabel(\"Predicted Label\")\n",
        "plt.ylabel(\"True Label\")\n",
        "plt.title(\"Confusion Matrix\")\n",
        "plt.show()"
      ]
    },
    {
      "cell_type": "code",
      "execution_count": 17,
      "id": "77e88ad4-10e4-4958-9d1d-beceb3a170d4",
      "metadata": {
        "colab": {
          "base_uri": "https://localhost:8080/",
          "height": 486
        },
        "id": "77e88ad4-10e4-4958-9d1d-beceb3a170d4",
        "outputId": "6c68e7d0-66e0-4118-a6c8-4e200ff94ad2"
      },
      "outputs": [
        {
          "output_type": "display_data",
          "data": {
            "text/plain": [
              "<Figure size 640x480 with 9 Axes>"
            ],
            "image/png": "[encoded data removed]"
          },
          "metadata": {}
        }
      ],
      "source": [
        "# Fehler sind Unterschiede zwischen y_pred labels and den wahren labels\n",
        "errors = (y_pred_classes - test_labels != 0)\n",
        "\n",
        "y_pred_classes_errors = y_pred_classes[errors]\n",
        "y_pred_errors = y_pred[errors]\n",
        "test_labels_errors = test_labels[errors]\n",
        "test_images_errors = test_images[errors]\n",
        "\n",
        "def display_errors(errors_index,img_errors,pred_errors, obs_errors):\n",
        "\n",
        "    n = 0\n",
        "    nrows = 3\n",
        "    ncols = 3\n",
        "    fig, ax = plt.subplots(nrows,ncols,sharex=True,sharey=True)\n",
        "    for row in range(nrows):\n",
        "        for col in range(ncols):\n",
        "            error = errors_index[n]\n",
        "            ax[row,col].imshow((img_errors[error]).reshape((28,28)))\n",
        "            ax[row,col].set_title(\"Predicted label :{}\\nTrue label :{}\".format(pred_errors[error],obs_errors[error]))\n",
        "            n += 1\n",
        "    fig.tight_layout()\n",
        "\n",
        "# Wahrscheinlichkeit der falsch erkannten Zahl\n",
        "y_pred_errors_prob = np.max(y_pred_errors,axis = 1)\n",
        "\n",
        "# Vorhergesagte Wahrscheinlichkeit der wahren Zahl\n",
        "true_prob_errors = np.diagonal(np.take(y_pred_errors, test_labels_errors, axis=1))\n",
        "\n",
        "# Differenz der Wahrscheinlichkeiten\n",
        "delta_pred_true_errors = y_pred_errors_prob - true_prob_errors\n",
        "\n",
        "# Sortieren der Differenzen\n",
        "sorted_delta_errors = np.argsort(delta_pred_true_errors)\n",
        "\n",
        "# Top 9 auswählen\n",
        "most_important_errors = sorted_delta_errors[-9:]\n",
        "display_errors(most_important_errors, test_images_errors, y_pred_classes_errors, test_labels_errors)"
      ]
    }
  ],
  "metadata": {
    "kernelspec": {
      "display_name": "Python 3",
      "name": "python3"
    },
    "language_info": {
      "codemirror_mode": {
        "name": "ipython",
        "version": 3
      },
      "file_extension": ".py",
      "mimetype": "text/x-python",
      "name": "python",
      "nbconvert_exporter": "python",
      "pygments_lexer": "ipython3",
      "version": "3.11.4"
    },
    "colab": {
      "provenance": []
    }
  },
  "nbformat": 4,
  "nbformat_minor": 5
}