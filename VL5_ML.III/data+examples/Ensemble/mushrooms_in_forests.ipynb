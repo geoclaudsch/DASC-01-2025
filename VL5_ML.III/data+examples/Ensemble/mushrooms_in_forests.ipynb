{
 "cells": [
  {
   "cell_type": "markdown",
   "id": "5dc9eeb2-c5be-40c3-bd0e-4466abda8f99",
   "metadata": {
    "id": "5dc9eeb2-c5be-40c3-bd0e-4466abda8f99"
   },
   "source": [
    "# Statistische Modelle - Beispiel Ensemble Modellierung mit Random Forest\n",
    "\n",
    "## Einlesen der notwendigen Bibliotheken\n"
   ]
  },
  {
   "cell_type": "code",
   "execution_count": 1,
   "id": "bb8460e6-b51d-4e0c-a599-c14256f8506c",
   "metadata": {
    "id": "bb8460e6-b51d-4e0c-a599-c14256f8506c"
   },
   "outputs": [],
   "source": [
    "import pandas as pd\n",
    "import matplotlib.pyplot as plt\n",
    "import numpy as np\n",
    "import seaborn as sns\n",
    "from matplotlib.colors import ListedColormap\n",
    "\n",
    "import warnings\n",
    "warnings.filterwarnings('ignore')\n",
    "\n",
    "from sklearn.preprocessing import LabelEncoder, StandardScaler\n",
    "from sklearn.model_selection import train_test_split, cross_val_score, cross_validate\n",
    "from sklearn.metrics import confusion_matrix, accuracy_score\n",
    "from sklearn.ensemble import RandomForestRegressor, RandomForestClassifier\n",
    "from sklearn import metrics"
   ]
  },
  {
   "cell_type": "code",
   "execution_count": 2,
   "id": "2377a1d8-0fae-4914-9f51-75bda520f9b3",
   "metadata": {
    "colab": {
     "base_uri": "https://localhost:8080/",
     "height": 253
    },
    "id": "2377a1d8-0fae-4914-9f51-75bda520f9b3",
    "outputId": "9fb61e76-311a-4dda-9243-b6c0127f66fd"
   },
   "outputs": [
    {
     "data": {
      "text/html": [
       "<div>\n",
       "<style scoped>\n",
       "    .dataframe tbody tr th:only-of-type {\n",
       "        vertical-align: middle;\n",
       "    }\n",
       "\n",
       "    .dataframe tbody tr th {\n",
       "        vertical-align: top;\n",
       "    }\n",
       "\n",
       "    .dataframe thead th {\n",
       "        text-align: right;\n",
       "    }\n",
       "</style>\n",
       "<table border=\"1\" class=\"dataframe\">\n",
       "  <thead>\n",
       "    <tr style=\"text-align: right;\">\n",
       "      <th></th>\n",
       "      <th>class</th>\n",
       "      <th>cap-shape</th>\n",
       "      <th>cap-surface</th>\n",
       "      <th>cap-color</th>\n",
       "      <th>bruises</th>\n",
       "      <th>odor</th>\n",
       "      <th>gill-attachment</th>\n",
       "      <th>gill-spacing</th>\n",
       "      <th>gill-size</th>\n",
       "      <th>gill-color</th>\n",
       "      <th>stalk-shape</th>\n",
       "      <th>stalk-root</th>\n",
       "      <th>stalk-surface-above-ring</th>\n",
       "      <th>stalk-surface-below-ring</th>\n",
       "      <th>stalk-color-above-ring</th>\n",
       "      <th>stalk-color-below-ring</th>\n",
       "      <th>veil-type</th>\n",
       "      <th>veil-color</th>\n",
       "      <th>ring-number</th>\n",
       "      <th>ring-type</th>\n",
       "      <th>spore-print-color</th>\n",
       "      <th>population</th>\n",
       "      <th>habitat</th>\n",
       "    </tr>\n",
       "  </thead>\n",
       "  <tbody>\n",
       "    <tr>\n",
       "      <th>0</th>\n",
       "      <td>p</td>\n",
       "      <td>x</td>\n",
       "      <td>s</td>\n",
       "      <td>n</td>\n",
       "      <td>t</td>\n",
       "      <td>p</td>\n",
       "      <td>f</td>\n",
       "      <td>c</td>\n",
       "      <td>n</td>\n",
       "      <td>k</td>\n",
       "      <td>e</td>\n",
       "      <td>e</td>\n",
       "      <td>s</td>\n",
       "      <td>s</td>\n",
       "      <td>w</td>\n",
       "      <td>w</td>\n",
       "      <td>p</td>\n",
       "      <td>w</td>\n",
       "      <td>o</td>\n",
       "      <td>p</td>\n",
       "      <td>k</td>\n",
       "      <td>s</td>\n",
       "      <td>u</td>\n",
       "    </tr>\n",
       "    <tr>\n",
       "      <th>1</th>\n",
       "      <td>e</td>\n",
       "      <td>x</td>\n",
       "      <td>s</td>\n",
       "      <td>y</td>\n",
       "      <td>t</td>\n",
       "      <td>a</td>\n",
       "      <td>f</td>\n",
       "      <td>c</td>\n",
       "      <td>b</td>\n",
       "      <td>k</td>\n",
       "      <td>e</td>\n",
       "      <td>c</td>\n",
       "      <td>s</td>\n",
       "      <td>s</td>\n",
       "      <td>w</td>\n",
       "      <td>w</td>\n",
       "      <td>p</td>\n",
       "      <td>w</td>\n",
       "      <td>o</td>\n",
       "      <td>p</td>\n",
       "      <td>n</td>\n",
       "      <td>n</td>\n",
       "      <td>g</td>\n",
       "    </tr>\n",
       "    <tr>\n",
       "      <th>2</th>\n",
       "      <td>e</td>\n",
       "      <td>b</td>\n",
       "      <td>s</td>\n",
       "      <td>w</td>\n",
       "      <td>t</td>\n",
       "      <td>l</td>\n",
       "      <td>f</td>\n",
       "      <td>c</td>\n",
       "      <td>b</td>\n",
       "      <td>n</td>\n",
       "      <td>e</td>\n",
       "      <td>c</td>\n",
       "      <td>s</td>\n",
       "      <td>s</td>\n",
       "      <td>w</td>\n",
       "      <td>w</td>\n",
       "      <td>p</td>\n",
       "      <td>w</td>\n",
       "      <td>o</td>\n",
       "      <td>p</td>\n",
       "      <td>n</td>\n",
       "      <td>n</td>\n",
       "      <td>m</td>\n",
       "    </tr>\n",
       "    <tr>\n",
       "      <th>3</th>\n",
       "      <td>p</td>\n",
       "      <td>x</td>\n",
       "      <td>y</td>\n",
       "      <td>w</td>\n",
       "      <td>t</td>\n",
       "      <td>p</td>\n",
       "      <td>f</td>\n",
       "      <td>c</td>\n",
       "      <td>n</td>\n",
       "      <td>n</td>\n",
       "      <td>e</td>\n",
       "      <td>e</td>\n",
       "      <td>s</td>\n",
       "      <td>s</td>\n",
       "      <td>w</td>\n",
       "      <td>w</td>\n",
       "      <td>p</td>\n",
       "      <td>w</td>\n",
       "      <td>o</td>\n",
       "      <td>p</td>\n",
       "      <td>k</td>\n",
       "      <td>s</td>\n",
       "      <td>u</td>\n",
       "    </tr>\n",
       "    <tr>\n",
       "      <th>4</th>\n",
       "      <td>e</td>\n",
       "      <td>x</td>\n",
       "      <td>s</td>\n",
       "      <td>g</td>\n",
       "      <td>f</td>\n",
       "      <td>n</td>\n",
       "      <td>f</td>\n",
       "      <td>w</td>\n",
       "      <td>b</td>\n",
       "      <td>k</td>\n",
       "      <td>t</td>\n",
       "      <td>e</td>\n",
       "      <td>s</td>\n",
       "      <td>s</td>\n",
       "      <td>w</td>\n",
       "      <td>w</td>\n",
       "      <td>p</td>\n",
       "      <td>w</td>\n",
       "      <td>o</td>\n",
       "      <td>e</td>\n",
       "      <td>n</td>\n",
       "      <td>a</td>\n",
       "      <td>g</td>\n",
       "    </tr>\n",
       "  </tbody>\n",
       "</table>\n",
       "</div>"
      ],
      "text/plain": [
       "  class cap-shape cap-surface  ... spore-print-color population habitat\n",
       "0     p         x           s  ...                 k          s       u\n",
       "1     e         x           s  ...                 n          n       g\n",
       "2     e         b           s  ...                 n          n       m\n",
       "3     p         x           y  ...                 k          s       u\n",
       "4     e         x           s  ...                 n          a       g\n",
       "\n",
       "[5 rows x 23 columns]"
      ]
     },
     "execution_count": 2,
     "metadata": {},
     "output_type": "execute_result"
    }
   ],
   "source": [
    "# importieren des Datensatzes\n",
    "mush = pd.read_csv('mushrooms.csv')\n",
    "mush.head()"
   ]
  },
  {
   "cell_type": "code",
   "execution_count": 3,
   "id": "8755d3b6-132c-4ab2-b74d-0fc2e79941cb",
   "metadata": {
    "colab": {
     "base_uri": "https://localhost:8080/"
    },
    "id": "8755d3b6-132c-4ab2-b74d-0fc2e79941cb",
    "outputId": "2b6bc027-c6be-44a5-c0f0-ddec72ba6c58"
   },
   "outputs": [
    {
     "data": {
      "text/plain": [
       "(8124, 23)"
      ]
     },
     "execution_count": 3,
     "metadata": {},
     "output_type": "execute_result"
    }
   ],
   "source": [
    "mush.shape"
   ]
  },
  {
   "cell_type": "code",
   "execution_count": 4,
   "id": "d94428c1-ae48-4b8f-a9ef-f6b1c15af7e0",
   "metadata": {
    "colab": {
     "base_uri": "https://localhost:8080/"
    },
    "id": "d94428c1-ae48-4b8f-a9ef-f6b1c15af7e0",
    "outputId": "afb36eb1-3e93-4a31-b8fb-ed6784ddfc84"
   },
   "outputs": [
    {
     "name": "stdout",
     "output_type": "stream",
     "text": [
      "<class 'pandas.core.frame.DataFrame'>\n",
      "RangeIndex: 8124 entries, 0 to 8123\n",
      "Data columns (total 23 columns):\n",
      " #   Column                    Non-Null Count  Dtype \n",
      "---  ------                    --------------  ----- \n",
      " 0   class                     8124 non-null   object\n",
      " 1   cap-shape                 8124 non-null   object\n",
      " 2   cap-surface               8124 non-null   object\n",
      " 3   cap-color                 8124 non-null   object\n",
      " 4   bruises                   8124 non-null   object\n",
      " 5   odor                      8124 non-null   object\n",
      " 6   gill-attachment           8124 non-null   object\n",
      " 7   gill-spacing              8124 non-null   object\n",
      " 8   gill-size                 8124 non-null   object\n",
      " 9   gill-color                8124 non-null   object\n",
      " 10  stalk-shape               8124 non-null   object\n",
      " 11  stalk-root                8124 non-null   object\n",
      " 12  stalk-surface-above-ring  8124 non-null   object\n",
      " 13  stalk-surface-below-ring  8124 non-null   object\n",
      " 14  stalk-color-above-ring    8124 non-null   object\n",
      " 15  stalk-color-below-ring    8124 non-null   object\n",
      " 16  veil-type                 8124 non-null   object\n",
      " 17  veil-color                8124 non-null   object\n",
      " 18  ring-number               8124 non-null   object\n",
      " 19  ring-type                 8124 non-null   object\n",
      " 20  spore-print-color         8124 non-null   object\n",
      " 21  population                8124 non-null   object\n",
      " 22  habitat                   8124 non-null   object\n",
      "dtypes: object(23)\n",
      "memory usage: 1.4+ MB\n"
     ]
    }
   ],
   "source": [
    "mush.info()"
   ]
  },
  {
   "cell_type": "markdown",
   "id": "d87f579b-a366-4e3d-a24a-9ebb2c80193c",
   "metadata": {
    "id": "d87f579b-a366-4e3d-a24a-9ebb2c80193c"
   },
   "source": [
    "## Metadaten - essbar oder giftig?\n",
    "Dieser Datensatz enthält Beschreibungen von hypothetischen Proben, die 23 Arten von Blätterpilzen aus der Familie der Agaricus- und Lepiota-Pilze aus dem Buch „Audubon Society Field Guide to North American Mushrooms“ (1981) entsprechen. Jede Art wird als eindeutig essbar, eindeutig giftig oder als unbekannt essbar und nicht empfehlenswert eingestuft. Die letztgenannte Klasse wurde mit der Klasse der giftigen kombiniert.\n",
    "\n",
    "Quelle: https://archive.ics.uci.edu/dataset/73/mushroom\n",
    "\n",
    "\n",
    "## Erklärung der Objektklassen\n",
    "\n",
    "* classes: edible = e, poisonous = p\n",
    "* cap-shape: bell = b, conical = c, convex = x, flat = f, knobbed = k, sunken = s\n",
    "* cap-surface: fibrous = f, grooves = g, scaly = y, smooth = s\n",
    "* cap-color: brown = n, buff = b, cinnamon = c, gray = g, green = r, pink = p, purple = u, red = e, white = w, yellow = y\n",
    "* bruises: yes = t, no = f\n",
    "* odor: almond = a, anise = l, creosote = c, fishy = y, foul = f, musty = m, none = n, pungent = p, spicy = s\n",
    "* gill-attachment: attached = a, descending = d, free = f, notched = n\n",
    "* gill-spacing: close = c, crowded = w, distant = d\n",
    "* gill-size: broad = b, narrow = n\n",
    "* gill-color: black = k, brown = n, buff = b, chocolate = h, gray = g, green = r, orange = o, pink = p, purple = u, red = e, white = w ,yellow = y\n",
    "* stalk-shape: enlarging = e, tapering = t\n",
    "* stalk-root: bulbous = b, club = c, cup = u, equal = e, rhizomorphs = z, rooted = r, missing = ?\n",
    "* stalk-surface-above-ring: fibrous = f, scaly = y, silky = k, smooth = s\n",
    "* stalk-surface-below-ring: fibrous = f, scaly = y, silky = k, smooth = s\n",
    "* stalk-color-above-ring: brown = n, buff = b, cinnamon = c, gray = g, orange = o, pink = p, red = e, white = w, yellow = y\n",
    "* stalk-color-below-ring: brown = n, buff = b, cinnamon = c, gray = g, orange = o, pink = p, red = e, white = w, yellow = y\n",
    "* veil-type: partial = p, universal = u\n",
    "* veil-color: brown = n, orange = o, white = w, yellow = y\n",
    "* ring-number: none = n, one = o, two = t\n",
    "* ring-type: cobwebby = c, evanescent = e, flaring = f, large = l, none = n, pendant = p, sheathing = s, zone = z\n",
    "* spore-print-color: black = k, brown = n, buff = b, chocolate = h, green = r, orange = o,purple = u, white = w, yellow = y\n",
    "* population: abundant = a, clustered = c, numerous = n, scattered = s, several = v, solitary = y\n",
    "* habitat: grasses = g, leaves = l, meadows = m, paths = p, urban = u, waste = w, woods = d\n"
   ]
  },
  {
   "cell_type": "markdown",
   "id": "43a6e6f1-2a51-4663-81f3-c864e6d24edf",
   "metadata": {
    "id": "43a6e6f1-2a51-4663-81f3-c864e6d24edf"
   },
   "source": [
    "## EDA"
   ]
  },
  {
   "cell_type": "code",
   "execution_count": 5,
   "id": "0ba861cd-5b96-4674-847c-3a737afb9089",
   "metadata": {
    "colab": {
     "base_uri": "https://localhost:8080/"
    },
    "id": "0ba861cd-5b96-4674-847c-3a737afb9089",
    "outputId": "a669e430-e940-4028-981c-50f347bf7727"
   },
   "outputs": [
    {
     "data": {
      "text/plain": [
       "0"
      ]
     },
     "execution_count": 5,
     "metadata": {},
     "output_type": "execute_result"
    }
   ],
   "source": [
    "mush.duplicated().sum()"
   ]
  },
  {
   "cell_type": "code",
   "execution_count": 6,
   "id": "9c735b09-eaa8-46a3-99fe-6ea5218eca1e",
   "metadata": {
    "colab": {
     "base_uri": "https://localhost:8080/"
    },
    "id": "9c735b09-eaa8-46a3-99fe-6ea5218eca1e",
    "outputId": "6632e550-d920-4f88-fbd9-72fbc9ea20a3"
   },
   "outputs": [
    {
     "name": "stdout",
     "output_type": "stream",
     "text": [
      "class - 0\n",
      "cap-shape - 0\n",
      "cap-surface - 0\n",
      "cap-color - 0\n",
      "bruises - 0\n",
      "odor - 0\n",
      "gill-attachment - 0\n",
      "gill-spacing - 0\n",
      "gill-size - 0\n",
      "gill-color - 0\n",
      "stalk-shape - 0\n",
      "stalk-root - 0\n",
      "stalk-surface-above-ring - 0\n",
      "stalk-surface-below-ring - 0\n",
      "stalk-color-above-ring - 0\n",
      "stalk-color-below-ring - 0\n",
      "veil-type - 0\n",
      "veil-color - 0\n",
      "ring-number - 0\n",
      "ring-type - 0\n",
      "spore-print-color - 0\n",
      "population - 0\n",
      "habitat - 0\n"
     ]
    }
   ],
   "source": [
    "for col in mush.columns:\n",
    "    pct_missing = mush[col].isnull().sum()\n",
    "    print(f'{col} - {pct_missing :}')"
   ]
  },
  {
   "cell_type": "code",
   "execution_count": 7,
   "id": "0f8abd53-b5b3-42e9-ab89-b544b0681b45",
   "metadata": {
    "colab": {
     "base_uri": "https://localhost:8080/",
     "height": 496
    },
    "id": "0f8abd53-b5b3-42e9-ab89-b544b0681b45",
    "outputId": "9a4b4b17-283a-4868-b18b-0b910f20ab44"
   },
   "outputs": [
    {
     "data": {
      "image/png": "[encoded data removed]",
      "text/plain": [
       "<Figure size 720x360 with 1 Axes>"
      ]
     },
     "metadata": {},
     "output_type": "display_data"
    }
   ],
   "source": [
    "plt.figure(figsize=(10,5))\n",
    "plt.title('Pilze - Giftig (P) und Essbar (E)', fontsize=14)\n",
    "sns.countplot(x=\"class\", data=mush, palette=('red','green'))\n",
    "plt.xlabel(\"Pilzart\", fontsize=12)\n",
    "plt.ylabel(\"Anzahl\", fontsize=12)\n",
    "plt.xticks(fontsize=12)\n",
    "plt.yticks(fontsize=12)\n",
    "plt.show()"
   ]
  },
  {
   "cell_type": "markdown",
   "id": "edaeb9d2-d6eb-4c76-84f6-c54f6bee1767",
   "metadata": {
    "id": "edaeb9d2-d6eb-4c76-84f6-c54f6bee1767"
   },
   "source": [
    "## Data preparation for modelling"
   ]
  },
  {
   "cell_type": "code",
   "execution_count": 8,
   "id": "862584a2-7ded-4e7f-99ab-4d682547ae20",
   "metadata": {
    "colab": {
     "base_uri": "https://localhost:8080/",
     "height": 806
    },
    "id": "862584a2-7ded-4e7f-99ab-4d682547ae20",
    "outputId": "4f05bae9-ac5b-4812-ec01-f0048a0de18f"
   },
   "outputs": [
    {
     "data": {
      "text/plain": [
       "class                        2\n",
       "cap-shape                    6\n",
       "cap-surface                  4\n",
       "cap-color                   10\n",
       "bruises                      2\n",
       "odor                         9\n",
       "gill-attachment              2\n",
       "gill-spacing                 2\n",
       "gill-size                    2\n",
       "gill-color                  12\n",
       "stalk-shape                  2\n",
       "stalk-root                   5\n",
       "stalk-surface-above-ring     4\n",
       "stalk-surface-below-ring     4\n",
       "stalk-color-above-ring       9\n",
       "stalk-color-below-ring       9\n",
       "veil-type                    1\n",
       "veil-color                   4\n",
       "ring-number                  3\n",
       "ring-type                    5\n",
       "spore-print-color            9\n",
       "population                   6\n",
       "habitat                      7\n",
       "dtype: int64"
      ]
     },
     "execution_count": 8,
     "metadata": {},
     "output_type": "execute_result"
    }
   ],
   "source": [
    "# nicht notwendige Klassen weglassen\n",
    "mush.nunique()"
   ]
  },
  {
   "cell_type": "code",
   "execution_count": 9,
   "id": "713c81b5-7d6e-4f10-ab55-d10a21df606b",
   "metadata": {
    "id": "713c81b5-7d6e-4f10-ab55-d10a21df606b"
   },
   "outputs": [],
   "source": [
    "mush.drop(columns=['veil-type'], axis=1, inplace=True)"
   ]
  },
  {
   "cell_type": "code",
   "execution_count": 10,
   "id": "94d4415f-a5c5-4f4c-986d-ca9fdef84e04",
   "metadata": {
    "colab": {
     "base_uri": "https://localhost:8080/"
    },
    "id": "94d4415f-a5c5-4f4c-986d-ca9fdef84e04",
    "outputId": "997a11d1-5bc1-446c-c8f2-a03bec2c3e5d"
   },
   "outputs": [
    {
     "name": "stdout",
     "output_type": "stream",
     "text": [
      "class ['e' 'p']\n",
      "cap-shape ['b' 'c' 'f' 'k' 's' 'x']\n",
      "cap-surface ['f' 'g' 's' 'y']\n",
      "cap-color ['b' 'c' 'e' 'g' 'n' 'p' 'r' 'u' 'w' 'y']\n",
      "bruises ['f' 't']\n",
      "odor ['a' 'c' 'f' 'l' 'm' 'n' 'p' 's' 'y']\n",
      "gill-attachment ['a' 'f']\n",
      "gill-spacing ['c' 'w']\n",
      "gill-size ['b' 'n']\n",
      "gill-color ['b' 'e' 'g' 'h' 'k' 'n' 'o' 'p' 'r' 'u' 'w' 'y']\n",
      "stalk-shape ['e' 't']\n",
      "stalk-root ['?' 'b' 'c' 'e' 'r']\n",
      "stalk-surface-above-ring ['f' 'k' 's' 'y']\n",
      "stalk-surface-below-ring ['f' 'k' 's' 'y']\n",
      "stalk-color-above-ring ['b' 'c' 'e' 'g' 'n' 'o' 'p' 'w' 'y']\n",
      "stalk-color-below-ring ['b' 'c' 'e' 'g' 'n' 'o' 'p' 'w' 'y']\n",
      "veil-color ['n' 'o' 'w' 'y']\n",
      "ring-number ['n' 'o' 't']\n",
      "ring-type ['e' 'f' 'l' 'n' 'p']\n",
      "spore-print-color ['b' 'h' 'k' 'n' 'o' 'r' 'u' 'w' 'y']\n",
      "population ['a' 'c' 'n' 's' 'v' 'y']\n",
      "habitat ['d' 'g' 'l' 'm' 'p' 'u' 'w']\n"
     ]
    }
   ],
   "source": [
    "# Labels in den Klassen in integers transformieren (codieren der target labels mit Zahlen zwischen 0 und n_classes-1)\n",
    "def Label_enc(feature):\n",
    "    LE = LabelEncoder()\n",
    "    LE.fit(feature)\n",
    "    print(feature.name,LE.classes_)\n",
    "    return LE.transform(feature)\n",
    "\n",
    "for col in mush.columns:\n",
    "    mush[str(col)] = Label_enc(mush[str(col)])"
   ]
  },
  {
   "cell_type": "markdown",
   "id": "587235b5-dcdd-4a32-843e-319db62f2327",
   "metadata": {
    "id": "587235b5-dcdd-4a32-843e-319db62f2327"
   },
   "source": [
    "# Modellierung\n",
    "\n",
    "* abhängige Variable: class (essbar oder giftig?)\n",
    "* unabhängige Variablen (Rest)\n",
    "* Teilung 70% Training, 30% Test"
   ]
  },
  {
   "cell_type": "code",
   "execution_count": 11,
   "id": "f2fabc05-2b99-4321-a79b-f81fcdf282a2",
   "metadata": {
    "id": "f2fabc05-2b99-4321-a79b-f81fcdf282a2"
   },
   "outputs": [],
   "source": [
    "x = mush.drop(columns=['class'], axis=1)\n",
    "y = mush['class']"
   ]
  },
  {
   "cell_type": "code",
   "execution_count": 12,
   "id": "e07e3ac3-0b73-402d-83b8-6aedabd1f0c5",
   "metadata": {
    "id": "e07e3ac3-0b73-402d-83b8-6aedabd1f0c5"
   },
   "outputs": [],
   "source": [
    "X_train, X_test, y_train, y_test = train_test_split(x, y, test_size=0.3, random_state=0)"
   ]
  },
  {
   "cell_type": "markdown",
   "id": "051d8361-ea90-42e2-80b3-479ee10f6241",
   "metadata": {
    "id": "051d8361-ea90-42e2-80b3-479ee10f6241"
   },
   "source": [
    "## Logistische Regression"
   ]
  },
  {
   "cell_type": "code",
   "execution_count": 13,
   "id": "5a7c70a8-5f18-452e-9503-29b1e4fad357",
   "metadata": {
    "id": "5a7c70a8-5f18-452e-9503-29b1e4fad357"
   },
   "outputs": [],
   "source": [
    "from sklearn.linear_model import LogisticRegression\n",
    "logreg = LogisticRegression(class_weight= 'balanced', solver='saga')\n",
    "logreg.fit(X_train, y_train)\n",
    "# Vorhersage für Testdaten\n",
    "y_pred_lr = logreg.predict(X_test)"
   ]
  },
  {
   "cell_type": "code",
   "execution_count": 14,
   "id": "03b508ef-9979-4693-95a8-2987585386cc",
   "metadata": {
    "colab": {
     "base_uri": "https://localhost:8080/",
     "height": 175
    },
    "id": "03b508ef-9979-4693-95a8-2987585386cc",
    "outputId": "57c345d3-56c9-4527-97d3-6b693e63c3a5"
   },
   "outputs": [
    {
     "data": {
      "text/html": [
       "<div>\n",
       "<style scoped>\n",
       "    .dataframe tbody tr th:only-of-type {\n",
       "        vertical-align: middle;\n",
       "    }\n",
       "\n",
       "    .dataframe tbody tr th {\n",
       "        vertical-align: top;\n",
       "    }\n",
       "\n",
       "    .dataframe thead th {\n",
       "        text-align: right;\n",
       "    }\n",
       "</style>\n",
       "<table border=\"1\" class=\"dataframe\">\n",
       "  <thead>\n",
       "    <tr style=\"text-align: right;\">\n",
       "      <th>Predicted</th>\n",
       "      <th>0</th>\n",
       "      <th>1</th>\n",
       "      <th>All</th>\n",
       "    </tr>\n",
       "    <tr>\n",
       "      <th>True</th>\n",
       "      <th></th>\n",
       "      <th></th>\n",
       "      <th></th>\n",
       "    </tr>\n",
       "  </thead>\n",
       "  <tbody>\n",
       "    <tr>\n",
       "      <th>0</th>\n",
       "      <td>1224</td>\n",
       "      <td>48</td>\n",
       "      <td>1272</td>\n",
       "    </tr>\n",
       "    <tr>\n",
       "      <th>1</th>\n",
       "      <td>74</td>\n",
       "      <td>1092</td>\n",
       "      <td>1166</td>\n",
       "    </tr>\n",
       "    <tr>\n",
       "      <th>All</th>\n",
       "      <td>1298</td>\n",
       "      <td>1140</td>\n",
       "      <td>2438</td>\n",
       "    </tr>\n",
       "  </tbody>\n",
       "</table>\n",
       "</div>"
      ],
      "text/plain": [
       "Predicted     0     1   All\n",
       "True                       \n",
       "0          1224    48  1272\n",
       "1            74  1092  1166\n",
       "All        1298  1140  2438"
      ]
     },
     "execution_count": 14,
     "metadata": {},
     "output_type": "execute_result"
    }
   ],
   "source": [
    "cmlr=confusion_matrix(y_test,y_pred_lr)\n",
    "pd.crosstab(y_test, y_pred_lr, rownames=['True'], colnames=['Predicted'], margins=True)"
   ]
  },
  {
   "cell_type": "code",
   "execution_count": 15,
   "id": "e0b65b82-58a5-43bf-931a-0476e4f7fd32",
   "metadata": {
    "colab": {
     "base_uri": "https://localhost:8080/"
    },
    "id": "e0b65b82-58a5-43bf-931a-0476e4f7fd32",
    "outputId": "e6f31ba1-18a4-4205-b5df-c71354877a70"
   },
   "outputs": [
    {
     "name": "stdout",
     "output_type": "stream",
     "text": [
      "              precision    recall  f1-score   support\n",
      "\n",
      "           0       0.94      0.96      0.95      1272\n",
      "           1       0.96      0.94      0.95      1166\n",
      "\n",
      "    accuracy                           0.95      2438\n",
      "   macro avg       0.95      0.95      0.95      2438\n",
      "weighted avg       0.95      0.95      0.95      2438\n",
      "\n"
     ]
    }
   ],
   "source": [
    "from sklearn.metrics import classification_report\n",
    "print(classification_report(y_test,y_pred_lr))"
   ]
  },
  {
   "cell_type": "code",
   "execution_count": 16,
   "id": "c745bedb-e4ed-4880-9574-a212b9d08fff",
   "metadata": {
    "colab": {
     "base_uri": "https://localhost:8080/"
    },
    "id": "c745bedb-e4ed-4880-9574-a212b9d08fff",
    "outputId": "82679657-bb6a-4201-f187-86cfc6eec594"
   },
   "outputs": [
    {
     "name": "stdout",
     "output_type": "stream",
     "text": [
      "Accuracy of logistic regression classifier on test set: 0.9499589827727646\n"
     ]
    }
   ],
   "source": [
    "print('Accuracy of logistic regression classifier on test set: {}'.format(logreg.score(X_test, y_test)))"
   ]
  },
  {
   "cell_type": "markdown",
   "id": "e1adac0b-cbde-428c-8309-98ff751045a0",
   "metadata": {
    "id": "e1adac0b-cbde-428c-8309-98ff751045a0"
   },
   "source": [
    "## Random Forest"
   ]
  },
  {
   "cell_type": "code",
   "execution_count": 17,
   "id": "49a88af3-d975-4571-b972-1b835cd7be2d",
   "metadata": {
    "colab": {
     "base_uri": "https://localhost:8080/",
     "height": 81
    },
    "id": "49a88af3-d975-4571-b972-1b835cd7be2d",
    "outputId": "c070e1eb-54df-45af-89dd-5527670bac67"
   },
   "outputs": [
    {
     "data": {
      "text/html": [
       "<style>#sk-container-id-1 {color: black;}#sk-container-id-1 pre{padding: 0;}#sk-container-id-1 div.sk-toggleable {background-color: white;}#sk-container-id-1 label.sk-toggleable__label {cursor: pointer;display: block;width: 100%;margin-bottom: 0;padding: 0.3em;box-sizing: border-box;text-align: center;}#sk-container-id-1 label.sk-toggleable__label-arrow:before {content: \"▸\";float: left;margin-right: 0.25em;color: #696969;}#sk-container-id-1 label.sk-toggleable__label-arrow:hover:before {color: black;}#sk-container-id-1 div.sk-estimator:hover label.sk-toggleable__label-arrow:before {color: black;}#sk-container-id-1 div.sk-toggleable__content {max-height: 0;max-width: 0;overflow: hidden;text-align: left;background-color: #f0f8ff;}#sk-container-id-1 div.sk-toggleable__content pre {margin: 0.2em;color: black;border-radius: 0.25em;background-color: #f0f8ff;}#sk-container-id-1 input.sk-toggleable__control:checked~div.sk-toggleable__content {max-height: 200px;max-width: 100%;overflow: auto;}#sk-container-id-1 input.sk-toggleable__control:checked~label.sk-toggleable__label-arrow:before {content: \"▾\";}#sk-container-id-1 div.sk-estimator input.sk-toggleable__control:checked~label.sk-toggleable__label {background-color: #d4ebff;}#sk-container-id-1 div.sk-label input.sk-toggleable__control:checked~label.sk-toggleable__label {background-color: #d4ebff;}#sk-container-id-1 input.sk-hidden--visually {border: 0;clip: rect(1px 1px 1px 1px);clip: rect(1px, 1px, 1px, 1px);height: 1px;margin: -1px;overflow: hidden;padding: 0;position: absolute;width: 1px;}#sk-container-id-1 div.sk-estimator {font-family: monospace;background-color: #f0f8ff;border: 1px dotted black;border-radius: 0.25em;box-sizing: border-box;margin-bottom: 0.5em;}#sk-container-id-1 div.sk-estimator:hover {background-color: #d4ebff;}#sk-container-id-1 div.sk-parallel-item::after {content: \"\";width: 100%;border-bottom: 1px solid gray;flex-grow: 1;}#sk-container-id-1 div.sk-label:hover label.sk-toggleable__label {background-color: #d4ebff;}#sk-container-id-1 div.sk-serial::before {content: \"\";position: absolute;border-left: 1px solid gray;box-sizing: border-box;top: 0;bottom: 0;left: 50%;z-index: 0;}#sk-container-id-1 div.sk-serial {display: flex;flex-direction: column;align-items: center;background-color: white;padding-right: 0.2em;padding-left: 0.2em;position: relative;}#sk-container-id-1 div.sk-item {position: relative;z-index: 1;}#sk-container-id-1 div.sk-parallel {display: flex;align-items: stretch;justify-content: center;background-color: white;position: relative;}#sk-container-id-1 div.sk-item::before, #sk-container-id-1 div.sk-parallel-item::before {content: \"\";position: absolute;border-left: 1px solid gray;box-sizing: border-box;top: 0;bottom: 0;left: 50%;z-index: -1;}#sk-container-id-1 div.sk-parallel-item {display: flex;flex-direction: column;z-index: 1;position: relative;background-color: white;}#sk-container-id-1 div.sk-parallel-item:first-child::after {align-self: flex-end;width: 50%;}#sk-container-id-1 div.sk-parallel-item:last-child::after {align-self: flex-start;width: 50%;}#sk-container-id-1 div.sk-parallel-item:only-child::after {width: 0;}#sk-container-id-1 div.sk-dashed-wrapped {border: 1px dashed gray;margin: 0 0.4em 0.5em 0.4em;box-sizing: border-box;padding-bottom: 0.4em;background-color: white;}#sk-container-id-1 div.sk-label label {font-family: monospace;font-weight: bold;display: inline-block;line-height: 1.2em;}#sk-container-id-1 div.sk-label-container {text-align: center;}#sk-container-id-1 div.sk-container {/* jupyter's `normalize.less` sets `[hidden] { display: none; }` but bootstrap.min.css set `[hidden] { display: none !important; }` so we also need the `!important` here to be able to override the default hidden behavior on the sphinx rendered scikit-learn.org. See: https://github.com/scikit-learn/scikit-learn/issues/21755 */display: inline-block !important;position: relative;}#sk-container-id-1 div.sk-text-repr-fallback {display: none;}</style><div id=\"sk-container-id-1\" class=\"sk-top-container\"><div class=\"sk-text-repr-fallback\"><pre>RandomForestClassifier(n_estimators=10, random_state=1)</pre><b>In a Jupyter environment, please rerun this cell to show the HTML representation or trust the notebook. <br />On GitHub, the HTML representation is unable to render, please try loading this page with nbviewer.org.</b></div><div class=\"sk-container\" hidden><div class=\"sk-item\"><div class=\"sk-estimator sk-toggleable\"><input class=\"sk-toggleable__control sk-hidden--visually\" id=\"sk-estimator-id-1\" type=\"checkbox\" checked><label for=\"sk-estimator-id-1\" class=\"sk-toggleable__label sk-toggleable__label-arrow\">RandomForestClassifier</label><div class=\"sk-toggleable__content\"><pre>RandomForestClassifier(n_estimators=10, random_state=1)</pre></div></div></div></div></div>"
      ],
      "text/plain": [
       "RandomForestClassifier(n_estimators=10, random_state=1)"
      ]
     },
     "execution_count": 17,
     "metadata": {},
     "output_type": "execute_result"
    }
   ],
   "source": [
    "model = RandomForestClassifier(n_estimators=10, criterion = 'gini', bootstrap = True, random_state=1)\n",
    "model.fit(X_train, y_train)"
   ]
  },
  {
   "cell_type": "code",
   "execution_count": 18,
   "id": "a5f515d1-81d1-4a88-820c-f768ff25f53f",
   "metadata": {
    "id": "a5f515d1-81d1-4a88-820c-f768ff25f53f"
   },
   "outputs": [],
   "source": [
    "y_pred_rf = model.predict(X_test)"
   ]
  },
  {
   "cell_type": "code",
   "execution_count": 19,
   "id": "f4fbf996-2e82-49a1-ac4a-02ae782898c0",
   "metadata": {
    "colab": {
     "base_uri": "https://localhost:8080/",
     "height": 175
    },
    "id": "f4fbf996-2e82-49a1-ac4a-02ae782898c0",
    "outputId": "0d893a26-5108-4105-9962-79c4b0a07354"
   },
   "outputs": [
    {
     "data": {
      "text/html": [
       "<div>\n",
       "<style scoped>\n",
       "    .dataframe tbody tr th:only-of-type {\n",
       "        vertical-align: middle;\n",
       "    }\n",
       "\n",
       "    .dataframe tbody tr th {\n",
       "        vertical-align: top;\n",
       "    }\n",
       "\n",
       "    .dataframe thead th {\n",
       "        text-align: right;\n",
       "    }\n",
       "</style>\n",
       "<table border=\"1\" class=\"dataframe\">\n",
       "  <thead>\n",
       "    <tr style=\"text-align: right;\">\n",
       "      <th>Predicted</th>\n",
       "      <th>0</th>\n",
       "      <th>1</th>\n",
       "      <th>All</th>\n",
       "    </tr>\n",
       "    <tr>\n",
       "      <th>True</th>\n",
       "      <th></th>\n",
       "      <th></th>\n",
       "      <th></th>\n",
       "    </tr>\n",
       "  </thead>\n",
       "  <tbody>\n",
       "    <tr>\n",
       "      <th>0</th>\n",
       "      <td>1272</td>\n",
       "      <td>0</td>\n",
       "      <td>1272</td>\n",
       "    </tr>\n",
       "    <tr>\n",
       "      <th>1</th>\n",
       "      <td>0</td>\n",
       "      <td>1166</td>\n",
       "      <td>1166</td>\n",
       "    </tr>\n",
       "    <tr>\n",
       "      <th>All</th>\n",
       "      <td>1272</td>\n",
       "      <td>1166</td>\n",
       "      <td>2438</td>\n",
       "    </tr>\n",
       "  </tbody>\n",
       "</table>\n",
       "</div>"
      ],
      "text/plain": [
       "Predicted     0     1   All\n",
       "True                       \n",
       "0          1272     0  1272\n",
       "1             0  1166  1166\n",
       "All        1272  1166  2438"
      ]
     },
     "execution_count": 19,
     "metadata": {},
     "output_type": "execute_result"
    }
   ],
   "source": [
    "cmrf=confusion_matrix(y_test,y_pred_rf)\n",
    "pd.crosstab(y_test, y_pred_rf, rownames=['True'], colnames=['Predicted'], margins=True)"
   ]
  },
  {
   "cell_type": "code",
   "execution_count": 20,
   "id": "3bba0586-2de9-460c-a78b-4e262b29878d",
   "metadata": {
    "colab": {
     "base_uri": "https://localhost:8080/",
     "height": 547
    },
    "id": "3bba0586-2de9-460c-a78b-4e262b29878d",
    "outputId": "8054328a-95b1-4bd6-e011-1d18c3e926e6"
   },
   "outputs": [
    {
     "data": {
      "image/png": "[encoded data removed]",
      "text/plain": [
       "<Figure size 432x432 with 2 Axes>"
      ]
     },
     "metadata": {},
     "output_type": "display_data"
    }
   ],
   "source": [
    "plt.figure(figsize=(6, 6))\n",
    "x_axis_labels = ['predicted_edible', 'predicted_poisonous'] # labels for x-axis\n",
    "y_axis_labels = ['real_edible', 'real_poisonous'] # labels for y-axis\n",
    "sns.heatmap(cmrf, annot=True, xticklabels=x_axis_labels, yticklabels=y_axis_labels, fmt=\".2f\", cmap='coolwarm')\n",
    "plt.title(\"Confusion matrix heatmap\", fontsize=16)\n",
    "plt.show()"
   ]
  },
  {
   "cell_type": "code",
   "execution_count": 21,
   "id": "eb6d7440-cd15-4d05-b643-889022ec021e",
   "metadata": {
    "colab": {
     "base_uri": "https://localhost:8080/"
    },
    "id": "eb6d7440-cd15-4d05-b643-889022ec021e",
    "outputId": "abe1a2ca-933b-4413-9e57-fbae339017bf"
   },
   "outputs": [
    {
     "name": "stdout",
     "output_type": "stream",
     "text": [
      "              precision    recall  f1-score   support\n",
      "\n",
      "           0       1.00      1.00      1.00      1272\n",
      "           1       1.00      1.00      1.00      1166\n",
      "\n",
      "    accuracy                           1.00      2438\n",
      "   macro avg       1.00      1.00      1.00      2438\n",
      "weighted avg       1.00      1.00      1.00      2438\n",
      "\n"
     ]
    }
   ],
   "source": [
    "from sklearn.metrics import classification_report\n",
    "print(classification_report(y_test,y_pred_rf))"
   ]
  },
  {
   "cell_type": "markdown",
   "id": "d1a36f20-85dc-44d1-9403-b0ae7e63684a",
   "metadata": {
    "id": "d1a36f20-85dc-44d1-9403-b0ae7e63684a"
   },
   "source": [
    "## Random Forest Merkmalsselektion"
   ]
  },
  {
   "cell_type": "code",
   "execution_count": 22,
   "id": "62b3c268-fe6d-4afe-91bc-2369e6c2e676",
   "metadata": {
    "colab": {
     "base_uri": "https://localhost:8080/",
     "height": 566
    },
    "id": "62b3c268-fe6d-4afe-91bc-2369e6c2e676",
    "outputId": "d9466168-a539-4850-ae85-7c99dfb576f7"
   },
   "outputs": [
    {
     "data": {
      "image/png": "[encoded data removed]",
      "text/plain": [
       "<Figure size 576x432 with 1 Axes>"
      ]
     },
     "metadata": {},
     "output_type": "display_data"
    }
   ],
   "source": [
    "fi_df = pd.DataFrame({\n",
    "    \"feature_importances\" : model.feature_importances_,\n",
    "    \"features\" : x.columns\n",
    "})\n",
    "\n",
    "fi_df.sort_values(by=\"feature_importances\", ascending=False, inplace=True)\n",
    "\n",
    "plt.figure(figsize=(8,6))\n",
    "sns.barplot(x=\"feature_importances\", y=\"features\", data=fi_df, palette=\"rocket\")\n",
    "plt.title(\"Feature Importance Random Forest\", fontsize=16)\n",
    "plt.show()"
   ]
  },
  {
   "cell_type": "markdown",
   "id": "6abe9e8a-137c-4ea0-a0d5-2fe41c40fa55",
   "metadata": {
    "id": "6abe9e8a-137c-4ea0-a0d5-2fe41c40fa55"
   },
   "source": [
    "# Vergleich Gradient Boosting vs Random Forest\n",
    "\n",
    "* n_estimators=10: Anzahl der Bäume bleibt gleich wie im Random Forest\n",
    "* criterion='friedman_mse': Standardkriterium für Gradient Boosting\n",
    "* learning_rate=0.1: Bestimmt, wie stark jeder neue Baum Fehler korrigiert"
   ]
  },
  {
   "cell_type": "code",
   "execution_count": 23,
   "id": "267cac3b-d647-4d26-b4e9-03ebe1c6ce12",
   "metadata": {
    "id": "267cac3b-d647-4d26-b4e9-03ebe1c6ce12"
   },
   "outputs": [],
   "source": [
    "from sklearn.ensemble import GradientBoostingClassifier\n",
    "\n",
    "# Modell erstellen\n",
    "model = GradientBoostingClassifier(n_estimators=10, criterion='friedman_mse', learning_rate=0.1, random_state=1)\n",
    "\n",
    "# Modell trainieren\n",
    "model.fit(X_train, y_train)\n",
    "\n",
    "# Vorhersagen auf Testdaten\n",
    "y_pred = model.predict(X_test)\n",
    "\n",
    "# Konfusionsmatrix berechnen\n",
    "cm = confusion_matrix(y_test, y_pred)"
   ]
  },
  {
   "cell_type": "code",
   "execution_count": 24,
   "id": "caW8rHffTaBQ",
   "metadata": {
    "colab": {
     "base_uri": "https://localhost:8080/",
     "height": 725
    },
    "id": "caW8rHffTaBQ",
    "outputId": "96052eca-9b9b-4724-be45-10629a4795e5"
   },
   "outputs": [
    {
     "data": {
      "image/png": "[encoded data removed]",
      "text/plain": [
       "<Figure size 432x432 with 2 Axes>"
      ]
     },
     "metadata": {},
     "output_type": "display_data"
    },
    {
     "name": "stdout",
     "output_type": "stream",
     "text": [
      "Klassifikationsbericht:\n",
      "               precision    recall  f1-score   support\n",
      "\n",
      "           0       0.97      1.00      0.98      1272\n",
      "           1       1.00      0.96      0.98      1166\n",
      "\n",
      "    accuracy                           0.98      2438\n",
      "   macro avg       0.98      0.98      0.98      2438\n",
      "weighted avg       0.98      0.98      0.98      2438\n",
      "\n"
     ]
    }
   ],
   "source": [
    "# Konfusionsmatrix visualisieren\n",
    "plt.figure(figsize=(6, 6))\n",
    "plt.xlabel(\"Vorhergesagte Klassen\")\n",
    "plt.ylabel(\"Tatsächliche Klassen\")\n",
    "x_axis_labels = ['predicted_edible', 'predicted_poisonous'] # labels for x-axis\n",
    "y_axis_labels = ['real_edible', 'real_poisonous'] # labels for y-axis\n",
    "sns.heatmap(cm, annot=True, fmt='d', cmap=\"Blues\", xticklabels=x_axis_labels, yticklabels=y_axis_labels)\n",
    "plt.title(\"Konfusionsmatrix\")\n",
    "plt.show()\n",
    "\n",
    "# Klassifikationsbericht ausgeben\n",
    "print(\"Klassifikationsbericht:\\n\", classification_report(y_test, y_pred))"
   ]
  },
  {
   "cell_type": "code",
   "execution_count": 25,
   "id": "kh8FQLSAVEgv",
   "metadata": {
    "colab": {
     "base_uri": "https://localhost:8080/",
     "height": 566
    },
    "id": "kh8FQLSAVEgv",
    "outputId": "2b591dcc-f548-4c01-80a0-5b73e53cc70f"
   },
   "outputs": [
    {
     "data": {
      "image/png": "[encoded data removed]",
      "text/plain": [
       "<Figure size 576x432 with 1 Axes>"
      ]
     },
     "metadata": {},
     "output_type": "display_data"
    }
   ],
   "source": [
    "fi_df = pd.DataFrame({\n",
    "    \"feature_importances\" : model.feature_importances_,\n",
    "    \"features\" : x.columns\n",
    "})\n",
    "\n",
    "fi_df.sort_values(by=\"feature_importances\", ascending=False, inplace=True)\n",
    "\n",
    "plt.figure(figsize=(8,6))\n",
    "sns.barplot(x=\"feature_importances\", y=\"features\", data=fi_df, palette=\"Blues\")\n",
    "plt.title(\"Feature Importance Gradient Boosting\", fontsize=16)\n",
    "plt.show()"
   ]
  }
 ],
 "metadata": {
  "colab": {
   "provenance": []
  },
  "kernelspec": {
   "display_name": "Python 3 (Spyder)",
   "language": "python3",
   "name": "python3"
  },
  "language_info": {
   "codemirror_mode": {
    "name": "ipython",
    "version": 3
   },
   "file_extension": ".py",
   "mimetype": "text/x-python",
   "name": "python",
   "nbconvert_exporter": "python",
   "pygments_lexer": "ipython3",
   "version": "3.11.4"
  }
 },
 "nbformat": 4,
 "nbformat_minor": 5
}
