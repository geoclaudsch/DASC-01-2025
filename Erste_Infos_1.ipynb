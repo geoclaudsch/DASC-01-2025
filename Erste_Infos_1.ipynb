{
 "cells": [
  {
   "cell_type": "markdown",
   "metadata": {
    "id": "vfCtgy8ReWeF"
   },
   "source": [
    "# Erste Infos für die Veranstaltung\n",
    "\n",
    "## Termine und Ablauf\n",
    "\n",
    "+ 10.01.: Einstieg, Überblick, erste Schritte --> 🔨 Übungen\n",
    "+ 16.01.: Statistik und Explorative Datenanalyse (EDA) --> 🔨 Übungen\n",
    "+ 31.01.: EDA, Statistische Modelle - Machine Learning (ML) - Teil 1 --> 🔨 Übungen\n",
    "+ 13.02.: ML - Teil 2 --> 🔨 Übungen\n",
    "+ 14.02.: ML - Teil 3, Neuronale Netze (ANN), Vorbereitung Abschlussaufgabe --> 🔨 Übungen\n",
    "+ 14.02.: ANN, Visualisierung, Vorbereitung Abschlussaufgabe --> 🔨 Übungen\n",
    "+ 21.03.: Abgabe der Abschlussarbeit als Py-Notebook\n",
    "\n",
    "⭐\n",
    "\n",
    "## Wichtige Links\n",
    "\n",
    "* GitHub Repository für Vorlesungsmaterialien: https://github.com/geoclaudsch/DASC-01-2025\n",
    "* Nextcloud für Übungsaufgaben-Abgabe:https://nc.ufz.de/s/39zCZKFAyZKDQ2z\n",
    "* **Email bei Fragen: claudia.schuetze@ufz.de**\n",
    "* Telefon: 0341 - 6025 - 1803"
   ]
  },
  {
   "cell_type": "code",
   "execution_count": 8,
   "metadata": {
    "colab": {
     "base_uri": "https://localhost:8080/"
    },
    "id": "3n50yVF6eJYi",
    "outputId": "42f3529a-d397-4d0b-f226-d7bbfee93ecc"
   },
   "outputs": [
    {
     "name": "stdout",
     "output_type": "stream",
     "text": [
      "Hello world!\n"
     ]
    }
   ],
   "source": [
    "print('Hello world!')"
   ]
  },
  {
   "cell_type": "code",
   "execution_count": null,
   "metadata": {},
   "outputs": [],
   "source": []
  }
 ],
 "metadata": {
  "colab": {
   "provenance": []
  },
  "kernelspec": {
   "display_name": "anaconda-2022.05-py39",
   "language": "python",
   "name": "conda-env-anaconda-2022.05-py39-py"
  },
  "language_info": {
   "codemirror_mode": {
    "name": "ipython",
    "version": 3
   },
   "file_extension": ".py",
   "mimetype": "text/x-python",
   "name": "python",
   "nbconvert_exporter": "python",
   "pygments_lexer": "ipython3",
   "version": "3.9.12"
  }
 },
 "nbformat": 4,
 "nbformat_minor": 4
}
